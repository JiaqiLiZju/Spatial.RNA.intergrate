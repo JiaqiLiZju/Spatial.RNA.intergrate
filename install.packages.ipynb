{
 "cells": [
  {
   "cell_type": "markdown",
   "id": "gross-principle",
   "metadata": {},
   "source": [
    "# 所需软件"
   ]
  },
  {
   "cell_type": "markdown",
   "id": "optimum-relations",
   "metadata": {},
   "source": [
    "- 系统 win7\n",
    "\n",
    "- anaconda3 环境 (无系统要求)\n",
    "\n",
    "- jupyter notebook\n",
    "\n",
    "- python3\n",
    "\n",
    "- 联网安装以下依赖包"
   ]
  },
  {
   "cell_type": "code",
   "execution_count": null,
   "id": "clear-jungle",
   "metadata": {},
   "outputs": [],
   "source": [
    "!pip install git+https://github.com/theislab/scanpy.git\n",
    "!pip install git+https://github.com/theislab/anndata.git\n",
    "!pip install scanorama\n",
    "\n",
    "!pip3 install leidenalg\n",
    "!pip install spatialde\n",
    "\n",
    "!pip install dill"
   ]
  },
  {
   "cell_type": "markdown",
   "id": "current-stylus",
   "metadata": {},
   "source": [
    "# 所需数据"
   ]
  },
  {
   "cell_type": "code",
   "execution_count": 2,
   "id": "adaptive-imperial",
   "metadata": {},
   "outputs": [
    {
     "name": "stdout",
     "output_type": "stream",
     "text": [
      "data:\n",
      "total 3.1G\n",
      "-rwxrwxrwx 1 ggj ggj 3.1G 6月  29 17:32 adata_processed.h5ad\n",
      "drwxrwxr-x 3 ggj ggj 4.0K 6月  29 15:55 V1_Human_Lymph_Node\n",
      "drwxrwxr-x 3 ggj ggj 4.0K 6月  29 16:42 V1_Mouse_Brain_Sagittal_Anterior\n",
      "drwxrwxr-x 3 ggj ggj 4.0K 6月  29 16:43 V1_Mouse_Brain_Sagittal_Posterior\n",
      "\n",
      "data/V1_Human_Lymph_Node:\n",
      "total 38M\n",
      "-rw-rw-r-- 1 ggj ggj  30M 6月  29 15:55 filtered_feature_bc_matrix.h5\n",
      "drwxr-xr-x 2 ggj ggj 4.0K 6月  29 15:55 spatial\n",
      "-rw-rw-r-- 1 ggj ggj 7.9M 6月  29 15:55 V1_Human_Lymph_Node_spatial.tar.gz\n",
      "\n",
      "data/V1_Human_Lymph_Node/spatial:\n",
      "total 8.0M\n",
      "-rw-r--r-- 1 ggj ggj 1.4M 6月  19  2020 aligned_fiducials.jpg\n",
      "-rw-r--r-- 1 ggj ggj 1.6M 6月  19  2020 detected_tissue_image.jpg\n",
      "-rw-r--r-- 1 ggj ggj  165 6月  19  2020 scalefactors_json.json\n",
      "-rw-r--r-- 1 ggj ggj 4.5M 6月  19  2020 tissue_hires_image.png\n",
      "-rw-r--r-- 1 ggj ggj 490K 6月  19  2020 tissue_lowres_image.png\n",
      "-rw-r--r-- 1 ggj ggj 181K 6月  19  2020 tissue_positions_list.csv\n",
      "\n",
      "data/V1_Mouse_Brain_Sagittal_Anterior:\n",
      "total 29M\n",
      "-rw-rw-r-- 1 ggj ggj  20M 6月  29 16:42 filtered_feature_bc_matrix.h5\n",
      "drwxr-xr-x 2 ggj ggj 4.0K 6月  29 16:42 spatial\n",
      "-rw-rw-r-- 1 ggj ggj 8.9M 6月  29 16:42 V1_Mouse_Brain_Sagittal_Anterior_spatial.tar.gz\n",
      "\n",
      "data/V1_Mouse_Brain_Sagittal_Anterior/spatial:\n",
      "total 9.1M\n",
      "-rw-r--r-- 1 ggj ggj 1.6M 6月  19  2020 aligned_fiducials.jpg\n",
      "-rw-r--r-- 1 ggj ggj 1.9M 6月  19  2020 detected_tissue_image.jpg\n",
      "-rw-r--r-- 1 ggj ggj  164 6月  19  2020 scalefactors_json.json\n",
      "-rw-r--r-- 1 ggj ggj 5.0M 6月  19  2020 tissue_hires_image.png\n",
      "-rw-r--r-- 1 ggj ggj 421K 6月  19  2020 tissue_lowres_image.png\n",
      "-rw-r--r-- 1 ggj ggj 181K 6月  19  2020 tissue_positions_list.csv\n",
      "\n",
      "data/V1_Mouse_Brain_Sagittal_Posterior:\n",
      "total 30M\n",
      "-rw-rw-r-- 1 ggj ggj  21M 6月  29 16:43 filtered_feature_bc_matrix.h5\n",
      "drwxr-xr-x 2 ggj ggj 4.0K 6月  29 16:42 spatial\n",
      "-rw-rw-r-- 1 ggj ggj 9.3M 6月  29 16:42 V1_Mouse_Brain_Sagittal_Posterior_spatial.tar.gz\n",
      "\n",
      "data/V1_Mouse_Brain_Sagittal_Posterior/spatial:\n",
      "total 9.5M\n",
      "-rw-r--r-- 1 ggj ggj 1.7M 6月  19  2020 aligned_fiducials.jpg\n",
      "-rw-r--r-- 1 ggj ggj 1.9M 6月  19  2020 detected_tissue_image.jpg\n",
      "-rw-r--r-- 1 ggj ggj  165 6月  19  2020 scalefactors_json.json\n",
      "-rw-r--r-- 1 ggj ggj 5.3M 6月  19  2020 tissue_hires_image.png\n",
      "-rw-r--r-- 1 ggj ggj 449K 6月  19  2020 tissue_lowres_image.png\n",
      "-rw-r--r-- 1 ggj ggj 181K 6月  19  2020 tissue_positions_list.csv\n"
     ]
    }
   ],
   "source": [
    "!ls -h -l -R ./data"
   ]
  },
  {
   "cell_type": "markdown",
   "id": "pharmaceutical-tennis",
   "metadata": {},
   "source": [
    "# session pickled"
   ]
  },
  {
   "cell_type": "code",
   "execution_count": null,
   "id": "pleasant-superintendent",
   "metadata": {},
   "outputs": [],
   "source": [
    "!ls -h -l -R ./session"
   ]
  }
 ],
 "metadata": {
  "kernelspec": {
   "display_name": "Python [conda env:SpatialTransriptome]",
   "language": "python",
   "name": "conda-env-SpatialTransriptome-py"
  },
  "language_info": {
   "codemirror_mode": {
    "name": "ipython",
    "version": 3
   },
   "file_extension": ".py",
   "mimetype": "text/x-python",
   "name": "python",
   "nbconvert_exporter": "python",
   "pygments_lexer": "ipython3",
   "version": "3.6.13"
  }
 },
 "nbformat": 4,
 "nbformat_minor": 5
}
